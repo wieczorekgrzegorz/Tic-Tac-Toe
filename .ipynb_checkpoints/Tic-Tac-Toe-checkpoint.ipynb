{
 "cells": [
  {
   "cell_type": "code",
   "execution_count": 4,
   "id": "fbe0cd2c",
   "metadata": {},
   "outputs": [],
   "source": [
    "# v1.0\n",
    "# A Tic-Tac-Toe game with extra error handling."
   ]
  },
  {
   "cell_type": "code",
   "execution_count": 5,
   "id": "2609ca56",
   "metadata": {},
   "outputs": [],
   "source": [
    "# create empty board slots \n",
    "def reset_board():\n",
    "    board = []\n",
    "    for i in range(9):\n",
    "        board.append('-')\n",
    "    return board"
   ]
  },
  {
   "cell_type": "code",
   "execution_count": 6,
   "id": "4634ad68",
   "metadata": {},
   "outputs": [],
   "source": [
    "# This function visualises the Tic-Tac-Toe board\n",
    "def display_board(board):\n",
    "    print('\\n')\n",
    "    print(board[0] + ' | ' + board[1] + ' | ' + board[2] + '     1 | 2 | 3')\n",
    "    print(board[3] + ' | ' + board[4] + ' | ' + board[5] + '     4 | 5 | 6')\n",
    "    print(board[6] + ' | ' + board[7] + ' | ' + board[8] + '     7 | 8 | 9')\n",
    "    print('\\n')"
   ]
  },
  {
   "cell_type": "code",
   "execution_count": 7,
   "id": "22cac858",
   "metadata": {},
   "outputs": [],
   "source": [
    "# This function takes care of changing current player\n",
    "def flip_player(current_player):\n",
    "    if current_player == 'X':\n",
    "        current_player = 'O'\n",
    "    else:\n",
    "        current_player = 'X'\n",
    "    return current_player"
   ]
  },
  {
   "cell_type": "code",
   "execution_count": 8,
   "id": "7d8b3e64",
   "metadata": {},
   "outputs": [],
   "source": [
    "# This function checks game status each round against victory conditions\n",
    "def check_victory(board):\n",
    "    victory_status = [False, False, False, False, False, False, False, False]\n",
    "    victory_status[0] = board[0] == board[1] == board[2] != '-' # 3 in top row\n",
    "    victory_status[1] = board[3] == board[4] == board[5] != '-' # 3 in middle row\n",
    "    victory_status[2] = board[6] == board[7] == board[8] != '-' # 3 in bottom row\n",
    "    victory_status[3] = board[0] == board[3] == board[6] != '-' # 3 in left column\n",
    "    victory_status[4] = board[1] == board[4] == board[7] != '-' # 3 in middle column\n",
    "    victory_status[5] = board[2] == board[5] == board[8] != '-' # 3 in right column\n",
    "    victory_status[6] = board[0] == board[4] == board[8] != '-' # 3 diagonal \\\n",
    "    victory_status[7] = board[2] == board[4] == board[6] != '-' # 3 diagonal /\n",
    "    for test in victory_status:\n",
    "        if test == True:\n",
    "            return True\n",
    "    return False"
   ]
  },
  {
   "cell_type": "code",
   "execution_count": 9,
   "id": "2b099df9",
   "metadata": {},
   "outputs": [],
   "source": [
    "# this functions provides the Player to replay the game after last one was finished\n",
    "def play_again():\n",
    "    legal_answers = ['y', 'yes', 'sure', 'ok']\n",
    "    print()\n",
    "    #ask Player whether to play again\n",
    "    players_input = input('Play again? (y / any key): ')\n",
    "    print()\n",
    "    print()\n",
    "    if players_input.lower() in legal_answers:\n",
    "        play_game()\n",
    "    else:\n",
    "        print('I hope you enjoyed the game! See you soon!')\n",
    "        return False"
   ]
  },
  {
   "cell_type": "code",
   "execution_count": 10,
   "id": "3a21feec",
   "metadata": {},
   "outputs": [],
   "source": [
    "# This function checks whether conditions for game finish were met already\n",
    "# and returns the result if they were\n",
    "def check_if_game_is_on(current_player,board):\n",
    "    # check whether last Player's move was victorious\n",
    "    if check_victory(board):\n",
    "#     if check_rows(board) or check_columns(board) or check_diagonals(board):\n",
    "        winner = flip_player(current_player)\n",
    "        print('Congratulations, ' + winner +  '! You won!')\n",
    "        return play_again()\n",
    "    # check whether game ended in a tie\n",
    "    elif '-' not in board:\n",
    "        print('It\\'s a tie!')\n",
    "        return play_again()\n",
    "    # if no winner yet and still empty slots on the board: game on!\n",
    "    else:\n",
    "        return True"
   ]
  },
  {
   "cell_type": "code",
   "execution_count": 11,
   "id": "cf125f85",
   "metadata": {},
   "outputs": [],
   "source": [
    "# This function takes care of turns handling by: \n",
    "# 1. Informing which player's turn it is,\n",
    "# 2. Validation of player's input vs legal board slot number (1 - 9)\n",
    "# 3. Validation of player's input vs free board slots\n",
    "def handle_turn(current_player, board, turn):\n",
    "    print('Turn #' + str(turn))\n",
    "    print('   ' + current_player + ', it\\'s your move.')\n",
    "    \n",
    "    # define legal input from players (digits 1-9)\n",
    "    legal_positions = []\n",
    "    for i in range(9):\n",
    "        legal_positions.append(i + 1)\n",
    "    \n",
    "    # This loop handles possible errors\n",
    "    while True:\n",
    "        #ask Player to chose position to take\n",
    "        players_input = input('   Choose board position (1 - 9): ')\n",
    "        #check whether Player's input is a number\n",
    "        try:\n",
    "            position = int(players_input)\n",
    "        #if not print error message and return to the begining of the while loop\n",
    "        except ValueError:\n",
    "            print('   Error: illegal input. You can only choose digits between 1 and 9.')\n",
    "            continue\n",
    "        else:\n",
    "            # check whether Player's input was a digit between 1 and 9\n",
    "            if position not in legal_positions:\n",
    "                print('   Error: illegal input. You can only choose digits between 1 and 9.')\n",
    "                continue\n",
    "            # check whether Player's input chose an empty slot\n",
    "            if board[int(position) - 1] != '-':\n",
    "                print('   Position ' + str(position) + ' is already taken. Choose another position.')\n",
    "                continue\n",
    "            break\n",
    "    \n",
    "    position = position - 1 # -1 because board is a list\n",
    "        \n",
    "    board[position] = current_player\n",
    "    display_board(board)"
   ]
  },
  {
   "cell_type": "code",
   "execution_count": 12,
   "id": "25fc5cf2",
   "metadata": {},
   "outputs": [],
   "source": [
    "def play_game():  \n",
    "    board = reset_board()\n",
    "    current_player = 'X'\n",
    "    turn = 0\n",
    "    \n",
    "    print('Welcome to a Tic-Tac-Toe game.')\n",
    "    \n",
    "    display_board(board)\n",
    "    \n",
    "    while check_if_game_is_on(current_player,board):\n",
    "        handle_turn(current_player, board, turn)\n",
    "        current_player = flip_player(current_player)\n",
    "        turn += 1"
   ]
  },
  {
   "cell_type": "code",
   "execution_count": 13,
   "id": "2cb744d5",
   "metadata": {
    "scrolled": true
   },
   "outputs": [
    {
     "name": "stdout",
     "output_type": "stream",
     "text": [
      "Welcome to a Tic-Tac-Toe game.\n",
      "\n",
      "\n",
      "- | - | -     1 | 2 | 3\n",
      "- | - | -     4 | 5 | 6\n",
      "- | - | -     7 | 8 | 9\n",
      "\n",
      "\n",
      "Turn #0\n",
      "   X, it's your move.\n"
     ]
    },
    {
     "ename": "KeyboardInterrupt",
     "evalue": "Interrupted by user",
     "output_type": "error",
     "traceback": [
      "\u001b[1;31m---------------------------------------------------------------------------\u001b[0m",
      "\u001b[1;31mKeyboardInterrupt\u001b[0m                         Traceback (most recent call last)",
      "\u001b[1;32m~\\AppData\\Local\\Temp\\ipykernel_15836\\1394602262.py\u001b[0m in \u001b[0;36m<module>\u001b[1;34m\u001b[0m\n\u001b[1;32m----> 1\u001b[1;33m \u001b[0mplay_game\u001b[0m\u001b[1;33m(\u001b[0m\u001b[1;33m)\u001b[0m\u001b[1;33m\u001b[0m\u001b[1;33m\u001b[0m\u001b[0m\n\u001b[0m",
      "\u001b[1;32m~\\AppData\\Local\\Temp\\ipykernel_15836\\371892904.py\u001b[0m in \u001b[0;36mplay_game\u001b[1;34m()\u001b[0m\n\u001b[0;32m      9\u001b[0m \u001b[1;33m\u001b[0m\u001b[0m\n\u001b[0;32m     10\u001b[0m     \u001b[1;32mwhile\u001b[0m \u001b[0mcheck_if_game_is_on\u001b[0m\u001b[1;33m(\u001b[0m\u001b[0mcurrent_player\u001b[0m\u001b[1;33m,\u001b[0m\u001b[0mboard\u001b[0m\u001b[1;33m)\u001b[0m\u001b[1;33m:\u001b[0m\u001b[1;33m\u001b[0m\u001b[1;33m\u001b[0m\u001b[0m\n\u001b[1;32m---> 11\u001b[1;33m         \u001b[0mhandle_turn\u001b[0m\u001b[1;33m(\u001b[0m\u001b[0mcurrent_player\u001b[0m\u001b[1;33m,\u001b[0m \u001b[0mboard\u001b[0m\u001b[1;33m,\u001b[0m \u001b[0mturn\u001b[0m\u001b[1;33m)\u001b[0m\u001b[1;33m\u001b[0m\u001b[1;33m\u001b[0m\u001b[0m\n\u001b[0m\u001b[0;32m     12\u001b[0m         \u001b[0mcurrent_player\u001b[0m \u001b[1;33m=\u001b[0m \u001b[0mflip_player\u001b[0m\u001b[1;33m(\u001b[0m\u001b[0mcurrent_player\u001b[0m\u001b[1;33m)\u001b[0m\u001b[1;33m\u001b[0m\u001b[1;33m\u001b[0m\u001b[0m\n\u001b[0;32m     13\u001b[0m         \u001b[0mturn\u001b[0m \u001b[1;33m+=\u001b[0m \u001b[1;36m1\u001b[0m\u001b[1;33m\u001b[0m\u001b[1;33m\u001b[0m\u001b[0m\n",
      "\u001b[1;32m~\\AppData\\Local\\Temp\\ipykernel_15836\\4044129726.py\u001b[0m in \u001b[0;36mhandle_turn\u001b[1;34m(current_player, board, turn)\u001b[0m\n\u001b[0;32m     15\u001b[0m     \u001b[1;32mwhile\u001b[0m \u001b[1;32mTrue\u001b[0m\u001b[1;33m:\u001b[0m\u001b[1;33m\u001b[0m\u001b[1;33m\u001b[0m\u001b[0m\n\u001b[0;32m     16\u001b[0m         \u001b[1;31m#ask Player to chose position to take\u001b[0m\u001b[1;33m\u001b[0m\u001b[1;33m\u001b[0m\u001b[0m\n\u001b[1;32m---> 17\u001b[1;33m         \u001b[0mplayers_input\u001b[0m \u001b[1;33m=\u001b[0m \u001b[0minput\u001b[0m\u001b[1;33m(\u001b[0m\u001b[1;34m'   Choose board position (1 - 9): '\u001b[0m\u001b[1;33m)\u001b[0m\u001b[1;33m\u001b[0m\u001b[1;33m\u001b[0m\u001b[0m\n\u001b[0m\u001b[0;32m     18\u001b[0m         \u001b[1;31m#check whether Player's input is a number\u001b[0m\u001b[1;33m\u001b[0m\u001b[1;33m\u001b[0m\u001b[0m\n\u001b[0;32m     19\u001b[0m         \u001b[1;32mtry\u001b[0m\u001b[1;33m:\u001b[0m\u001b[1;33m\u001b[0m\u001b[1;33m\u001b[0m\u001b[0m\n",
      "\u001b[1;32mC:\\ProgramData\\Anaconda3\\lib\\site-packages\\ipykernel\\kernelbase.py\u001b[0m in \u001b[0;36mraw_input\u001b[1;34m(self, prompt)\u001b[0m\n\u001b[0;32m   1175\u001b[0m                 \u001b[1;34m\"raw_input was called, but this frontend does not support input requests.\"\u001b[0m\u001b[1;33m\u001b[0m\u001b[1;33m\u001b[0m\u001b[0m\n\u001b[0;32m   1176\u001b[0m             )\n\u001b[1;32m-> 1177\u001b[1;33m         return self._input_request(\n\u001b[0m\u001b[0;32m   1178\u001b[0m             \u001b[0mstr\u001b[0m\u001b[1;33m(\u001b[0m\u001b[0mprompt\u001b[0m\u001b[1;33m)\u001b[0m\u001b[1;33m,\u001b[0m\u001b[1;33m\u001b[0m\u001b[1;33m\u001b[0m\u001b[0m\n\u001b[0;32m   1179\u001b[0m             \u001b[0mself\u001b[0m\u001b[1;33m.\u001b[0m\u001b[0m_parent_ident\u001b[0m\u001b[1;33m[\u001b[0m\u001b[1;34m\"shell\"\u001b[0m\u001b[1;33m]\u001b[0m\u001b[1;33m,\u001b[0m\u001b[1;33m\u001b[0m\u001b[1;33m\u001b[0m\u001b[0m\n",
      "\u001b[1;32mC:\\ProgramData\\Anaconda3\\lib\\site-packages\\ipykernel\\kernelbase.py\u001b[0m in \u001b[0;36m_input_request\u001b[1;34m(self, prompt, ident, parent, password)\u001b[0m\n\u001b[0;32m   1217\u001b[0m             \u001b[1;32mexcept\u001b[0m \u001b[0mKeyboardInterrupt\u001b[0m\u001b[1;33m:\u001b[0m\u001b[1;33m\u001b[0m\u001b[1;33m\u001b[0m\u001b[0m\n\u001b[0;32m   1218\u001b[0m                 \u001b[1;31m# re-raise KeyboardInterrupt, to truncate traceback\u001b[0m\u001b[1;33m\u001b[0m\u001b[1;33m\u001b[0m\u001b[0m\n\u001b[1;32m-> 1219\u001b[1;33m                 \u001b[1;32mraise\u001b[0m \u001b[0mKeyboardInterrupt\u001b[0m\u001b[1;33m(\u001b[0m\u001b[1;34m\"Interrupted by user\"\u001b[0m\u001b[1;33m)\u001b[0m \u001b[1;32mfrom\u001b[0m \u001b[1;32mNone\u001b[0m\u001b[1;33m\u001b[0m\u001b[1;33m\u001b[0m\u001b[0m\n\u001b[0m\u001b[0;32m   1220\u001b[0m             \u001b[1;32mexcept\u001b[0m \u001b[0mException\u001b[0m\u001b[1;33m:\u001b[0m\u001b[1;33m\u001b[0m\u001b[1;33m\u001b[0m\u001b[0m\n\u001b[0;32m   1221\u001b[0m                 \u001b[0mself\u001b[0m\u001b[1;33m.\u001b[0m\u001b[0mlog\u001b[0m\u001b[1;33m.\u001b[0m\u001b[0mwarning\u001b[0m\u001b[1;33m(\u001b[0m\u001b[1;34m\"Invalid Message:\"\u001b[0m\u001b[1;33m,\u001b[0m \u001b[0mexc_info\u001b[0m\u001b[1;33m=\u001b[0m\u001b[1;32mTrue\u001b[0m\u001b[1;33m)\u001b[0m\u001b[1;33m\u001b[0m\u001b[1;33m\u001b[0m\u001b[0m\n",
      "\u001b[1;31mKeyboardInterrupt\u001b[0m: Interrupted by user"
     ]
    }
   ],
   "source": [
    "play_game()"
   ]
  }
 ],
 "metadata": {
  "kernelspec": {
   "display_name": "Python 3 (ipykernel)",
   "language": "python",
   "name": "python3"
  },
  "language_info": {
   "codemirror_mode": {
    "name": "ipython",
    "version": 3
   },
   "file_extension": ".py",
   "mimetype": "text/x-python",
   "name": "python",
   "nbconvert_exporter": "python",
   "pygments_lexer": "ipython3",
   "version": "3.9.13"
  }
 },
 "nbformat": 4,
 "nbformat_minor": 5
}
