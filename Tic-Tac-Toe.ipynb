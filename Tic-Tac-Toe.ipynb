{
 "cells": [
  {
   "cell_type": "code",
   "execution_count": 6,
   "id": "4634ad68",
   "metadata": {},
   "outputs": [],
   "source": [
    "# define board slots \n",
    "board = ['-', '-', '-', '-', '-', '-', '-', '-', '-']\n",
    "\n",
    "# This function visualises the Tic-Tac-Toe board\n",
    "def display_board():\n",
    "    print('\\n')\n",
    "    print(board[0] + ' | ' + board[1] + ' | ' + board[2] + '     1 | 2 | 3')\n",
    "    print(board[3] + ' | ' + board[4] + ' | ' + board[5] + '     4 | 5 | 6')\n",
    "    print(board[6] + ' | ' + board[7] + ' | ' + board[8] + '     7 | 8 | 9')\n",
    "    print('\\n')"
   ]
  },
  {
   "cell_type": "code",
   "execution_count": 7,
   "id": "0800e651",
   "metadata": {},
   "outputs": [],
   "source": [
    "# This function takes care of turns handling by: \n",
    "# 1. Informing which player's turn it is,\n",
    "# 2. Validation of player's input vs legal board slot number (1 - 9)\n",
    "# 3. Validation of player's input vs free board slots\n",
    "def handle_turn(player):\n",
    "    turn = 1\n",
    "    print('Turn #' + str(turn))\n",
    "    print(player + ', it\\'s your move.')\n",
    "    position = input('Choose board position (1 - 9): ')\n",
    "    \n",
    "    legal_positions = []\n",
    "    for i in range(9):\n",
    "        legal_positions.append(i)\n",
    "    print(legal_positions)\n",
    "    \n",
    "    while position not in ['1', '2', '3', '4', '5', '6', '7', '8', '9']:\n",
    "        position = input('Error: illegal input. Choose board position (1 - 9): ')\n",
    "    position = int(position) - 1    \n",
    "    \n",
    "    if board[position] != '-':\n",
    "        print('This slot is already taken.')\n",
    "        \n",
    "    board[position] = player\n",
    "    display_board()\n"
   ]
  },
  {
   "cell_type": "code",
   "execution_count": 8,
   "id": "25fc5cf2",
   "metadata": {},
   "outputs": [],
   "source": [
    "def play_game():\n",
    "    display_board()\n",
    "    \n"
   ]
  },
  {
   "cell_type": "code",
   "execution_count": 9,
   "id": "2cb744d5",
   "metadata": {
    "scrolled": true
   },
   "outputs": [
    {
     "name": "stdout",
     "output_type": "stream",
     "text": [
      "\n",
      "\n",
      "- | - | -     1 | 2 | 3\n",
      "- | - | -     4 | 5 | 6\n",
      "- | - | -     7 | 8 | 9\n",
      "\n",
      "\n",
      "Turn #1\n",
      "x, it's your move.\n",
      "Choose board position (1 - 9): 1\n",
      "[0, 1, 2, 3, 4, 5, 6, 7, 8]\n",
      "\n",
      "\n",
      "x | - | -     1 | 2 | 3\n",
      "- | - | -     4 | 5 | 6\n",
      "- | - | -     7 | 8 | 9\n",
      "\n",
      "\n"
     ]
    }
   ],
   "source": [
    "player = 'x'    \n",
    "    \n",
    "play_game()\n",
    "handle_turn(player)"
   ]
  }
 ],
 "metadata": {
  "kernelspec": {
   "display_name": "Python 3 (ipykernel)",
   "language": "python",
   "name": "python3"
  },
  "language_info": {
   "codemirror_mode": {
    "name": "ipython",
    "version": 3
   },
   "file_extension": ".py",
   "mimetype": "text/x-python",
   "name": "python",
   "nbconvert_exporter": "python",
   "pygments_lexer": "ipython3",
   "version": "3.9.13"
  }
 },
 "nbformat": 4,
 "nbformat_minor": 5
}
