{
 "cells": [
  {
   "cell_type": "code",
   "execution_count": 3,
   "id": "14811e30",
   "metadata": {},
   "outputs": [
    {
     "name": "stdout",
     "output_type": "stream",
     "text": [
      "\n",
      "\n",
      "- | - | -     1 | 2 | 3\n"
     ]
    }
   ],
   "source": [
    "def display_board():\n",
    "    print('\\n')\n",
    "    print(board[0] + ' | ' + board[1] + ' | ' + board[2] + '     1 | 2 | 3')\n",
    "    print(board[3] + ' | ' + board[4] + ' | ' + board[5] + '     4 | 5 | 6')\n",
    "    print(board[0] + ' | ' + board[1] + ' | ' + board[2] + '     7 | 8 | 3')\n",
    "    \n",
    "board = ['-', '-','-',\n",
    "        '-', '-', '-',\n",
    "        '-','-','-']\n",
    "    \n",
    "    \n",
    "display_board()  "
   ]
  }
 ],
 "metadata": {
  "kernelspec": {
   "display_name": "Python 3 (ipykernel)",
   "language": "python",
   "name": "python3"
  },
  "language_info": {
   "codemirror_mode": {
    "name": "ipython",
    "version": 3
   },
   "file_extension": ".py",
   "mimetype": "text/x-python",
   "name": "python",
   "nbconvert_exporter": "python",
   "pygments_lexer": "ipython3",
   "version": "3.9.13"
  }
 },
 "nbformat": 4,
 "nbformat_minor": 5
}
